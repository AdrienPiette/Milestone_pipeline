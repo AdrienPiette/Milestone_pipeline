{
 "cells": [
  {
   "cell_type": "markdown",
   "metadata": {},
   "source": [
    "## Scraping RTBF"
   ]
  },
  {
   "cell_type": "code",
   "execution_count": 2,
   "metadata": {},
   "outputs": [],
   "source": [
    "\n",
    "import requests\n",
    "import json"
   ]
  },
  {
   "cell_type": "code",
   "execution_count": null,
   "metadata": {},
   "outputs": [
    {
     "name": "stdout",
     "output_type": "stream",
     "text": [
      "[]\n"
     ]
    }
   ],
   "source": [
    "\n",
    "import requests\n",
    "import json\n",
    "\n",
    "def scrap_page(page_number):\n",
    "    url_json = f\"https://bff-service.rtbf.be/oaos/v1.5/pages/en-continu?_page={page_number}&_limit=100\"\n",
    "    response = requests.get(url_json).text\n",
    "    data = json.loads(response)  # Parse JSON response\n",
    "    \n",
    "    articles_data = []  # Initialize an empty list to store articles\n",
    "    \n",
    "    articles = data.get(\"items\", [])  # Adjust \"items\" if the JSON structure differs  \n",
    "    \n",
    "    for article in articles:\n",
    "        article_info = {\n",
    "            \"id\": article[\"id\"],\n",
    "            \"slug\": article[\"slug\"],\n",
    "            \"title\": article[\"title\"],\n",
    "            \"type\": article[\"type\"],\n",
    "            \"dossierLabel\": article[\"dossierLabel\"],\n",
    "            \"summary\": article[\"summary\"],\n",
    "            \"readingTime\": article[\"readingTime\"],\n",
    "            \"publishedFrom\": article[\"publishedFrom\"],\n",
    "            \"redactedByTeamRedactionInfo\": article[\"redactedByTeamRedactionInfo\"]}\n",
    "        articles_data.append(article_info)  # Append each article dictionary to the list\n",
    "    \n",
    "    return articles_data  # Return the list of articles\n",
    "\n",
    "print(scrap_page(1))  # Scrap the first page\n",
    "\n",
    "#name \"null\" is not defined checks dans json ou null est là debug"
   ]
  },
  {
   "cell_type": "code",
   "execution_count": null,
   "metadata": {},
   "outputs": [],
   "source": [
    "def cycle_through_pages(pages=100):\n",
    "    all_articles = []  # Initialize an empty list to store all articles\n",
    "    \n",
    "    for page in range(1, pages + 1):\n",
    "        articles = scrap_page(page)  # Scrap each page\n",
    "        all_articles.extend(articles)  # Extend the list with the articles from the current page\n",
    "    \n",
    "    return all_articles  # Return the list of all articles\n"
   ]
  },
  {
   "cell_type": "code",
   "execution_count": null,
   "metadata": {},
   "outputs": [],
   "source": [
    "import json\n",
    "\n",
    "def write_to_json(pages=100, file_name=\"articles.json\"):\n",
    "    all_articles = cycle_through_pages(pages)  # Assuming this function retrieves all articles as a list of dictionaries\n",
    "    \n",
    "    with open(file_name, \"w\") as file:\n",
    "        json.dump(all_articles, file, indent=4)  # Write the articles data to the JSON file\n",
    "\n",
    "# Example usage:\n",
    "write_to_json(100, \"articles.json\")\n"
   ]
  }
 ],
 "metadata": {
  "kernelspec": {
   "display_name": "Python 3",
   "language": "python",
   "name": "python3"
  },
  "language_info": {
   "codemirror_mode": {
    "name": "ipython",
    "version": 3
   },
   "file_extension": ".py",
   "mimetype": "text/x-python",
   "name": "python",
   "nbconvert_exporter": "python",
   "pygments_lexer": "ipython3",
   "version": "3.12.7"
  }
 },
 "nbformat": 4,
 "nbformat_minor": 2
}
