{
 "cells": [
  {
   "cell_type": "markdown",
   "metadata": {},
   "source": [
    "## Scraping RTBF"
   ]
  },
  {
   "cell_type": "code",
   "execution_count": 2,
   "metadata": {},
   "outputs": [],
   "source": [
    "\n",
    "import requests\n",
    "import json"
   ]
  },
  {
   "cell_type": "code",
   "execution_count": 16,
   "metadata": {},
   "outputs": [],
   "source": [
    "\n",
    "import requests\n",
    "import json\n",
    "\n",
    "def scrap_page():\n",
    "    articles_data = []  # Initialize an empty list to store articles\n",
    "    for page in range(100):\n",
    "        url_json = f\"https://bff-service.rtbf.be/oaos/v1.5/pages/en-continu?_page={page}&_limit=100\"\n",
    "        response = requests.get(url_json).text\n",
    "        data = json.loads(response)[\"data\"][\"articles\"]  # Parse JSON response\n",
    "        \n",
    "        \n",
    "        \n",
    "        \n",
    "        for article in data:\n",
    "            article_info = {\n",
    "                \"id\": article[\"id\"],\n",
    "                \"slug\": article[\"slug\"],\n",
    "                \"title\": article[\"title\"],\n",
    "                \"type\": article[\"type\"],\n",
    "                \"dossierLabel\": article[\"dossierLabel\"],\n",
    "                \"summary\": article[\"summary\"],\n",
    "                \"readingTime\": article[\"readingTime\"],\n",
    "                \"publishedFrom\": article[\"publishedFrom\"],\n",
    "                \"redactedByTeamRedactionInfo\": article[\"redactedByTeamRedactionInfo\"]}\n",
    "            articles_data.append(article_info)  # Append each article dictionary to the list\n",
    "    \n",
    "\n",
    "    return articles_data  # Return the list of articles\n",
    "\n",
    "\n",
    "def save_date(final_data):\n",
    "    with open(\"data.json\", \"w\", encoding=\"utf-8\") as file:\n",
    "        json.dump(final_data, file, ensure_ascii=False ,indent=4)  # Save the data to a JSON file\n",
    "\n",
    "final_data = scrap_page()  # Scrap all pages\n",
    "save_date(final_data)  # Save the data\n"
   ]
  }
 ],
 "metadata": {
  "kernelspec": {
   "display_name": "Python 3",
   "language": "python",
   "name": "python3"
  },
  "language_info": {
   "codemirror_mode": {
    "name": "ipython",
    "version": 3
   },
   "file_extension": ".py",
   "mimetype": "text/x-python",
   "name": "python",
   "nbconvert_exporter": "python",
   "pygments_lexer": "ipython3",
   "version": "3.12.7"
  }
 },
 "nbformat": 4,
 "nbformat_minor": 2
}
